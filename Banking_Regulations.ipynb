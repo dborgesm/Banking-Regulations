{
  "nbformat": 4,
  "nbformat_minor": 0,
  "metadata": {
    "colab": {
      "name": "Banking Regulations",
      "provenance": [],
      "collapsed_sections": [],
      "include_colab_link": true
    },
    "kernelspec": {
      "name": "python3",
      "display_name": "Python 3"
    }
  },
  "cells": [
    {
      "cell_type": "markdown",
      "metadata": {
        "id": "view-in-github",
        "colab_type": "text"
      },
      "source": [
        "<a href=\"https://colab.research.google.com/github/dborgesm/Banking-Regulations/blob/master/Banking_Regulations.ipynb\" target=\"_parent\"><img src=\"https://colab.research.google.com/assets/colab-badge.svg\" alt=\"Open In Colab\"/></a>"
      ]
    },
    {
      "cell_type": "markdown",
      "metadata": {
        "id": "XeZ7IBhO9p-N",
        "colab_type": "text"
      },
      "source": [
        "# Banking Regulations"
      ]
    },
    {
      "cell_type": "markdown",
      "metadata": {
        "id": "BYE0BcmN9nFD",
        "colab_type": "text"
      },
      "source": [
        "Here is the analysis and assessment of the capital requirement of a credit portfolio, all the definitions and calculations are based on Basel Committee on Banking Supervision and Office of The Superintendent of Financial Institutions documentations. The capital requirement calculated was for a bank which portfolio is composed by retail, mortgages and corporate exposures, the foundational and standard approach were used and the Basel III PDs and LGDs were applied,"
      ]
    },
    {
      "cell_type": "code",
      "metadata": {
        "id": "2V6FkmxApV4Y",
        "colab_type": "code",
        "colab": {}
      },
      "source": [
        "#Installing packages\n",
        "import pandas as pd\n",
        "import numpy as np"
      ],
      "execution_count": 0,
      "outputs": []
    },
    {
      "cell_type": "code",
      "metadata": {
        "id": "jU-aYCwqpXzd",
        "colab_type": "code",
        "outputId": "ceeeb410-49ff-4afb-b3d6-803882248923",
        "colab": {
          "base_uri": "https://localhost:8080/",
          "height": 84
        }
      },
      "source": [
        "!gdown https://drive.google.com/uc?id=1_HeP1GynSCws3oQEQ9xZTjCAy6B2tHzQ"
      ],
      "execution_count": 0,
      "outputs": [
        {
          "output_type": "stream",
          "text": [
            "Downloading...\n",
            "From: https://drive.google.com/uc?id=1_HeP1GynSCws3oQEQ9xZTjCAy6B2tHzQ\n",
            "To: /content/Dataset.xlsx\n",
            "17.0MB [00:00, 46.6MB/s]\n"
          ],
          "name": "stdout"
        }
      ]
    },
    {
      "cell_type": "code",
      "metadata": {
        "id": "Dmje16c4pZpW",
        "colab_type": "code",
        "colab": {}
      },
      "source": [
        "#Loading the data\n",
        "bond_data = pd.read_excel('/content/Dataset.xlsx', sheet_name = 'Bond')\n",
        "mortgage_data = pd.read_excel('/content/Dataset.xlsx', sheet_name = 'Mortgage')\n",
        "rloan_data = pd.read_excel('/content/Dataset.xlsx', sheet_name = 'RetailLoan')\n",
        "bond_yield = pd.read_excel('/content/Dataset.xlsx', sheet_name = 'Yields') #This excel sheet was added using the yields of the Bank of Canada from September 26th 2019"
      ],
      "execution_count": 0,
      "outputs": []
    },
    {
      "cell_type": "markdown",
      "metadata": {
        "id": "7h8FyorUCHAO",
        "colab_type": "text"
      },
      "source": [
        "# Capital Adequacy under the Internal Ratings Based Approach (IRB)\n",
        "## Calculating the Exposure at Default"
      ]
    },
    {
      "cell_type": "markdown",
      "metadata": {
        "id": "WR98QSO2Asyn",
        "colab_type": "text"
      },
      "source": [
        "## Bonds\n",
        "\n",
        "For the corporate bonds portfolio, it was used the equivalent rate of a bond which pay yearly coupons, the exposure was calculated by bringing to present value the remaining coupons using the market rate yields ([Canada's bond rate](https://www.bankofcanada.ca/rates/interest-rates/canadian-bonds/)) multiplied by the total of bonds held and divided by 100 because the prices were in cents. Hence, the total EAD of our bond portfolio resulted in $52,599.23 million dollars."
      ]
    },
    {
      "cell_type": "code",
      "metadata": {
        "id": "pWKBgZijpewR",
        "colab_type": "code",
        "colab": {}
      },
      "source": [
        "# This function calculates the price of the yearly bond using the market yields\n",
        "def bpv(pr, c, n, bh, r = bond_yield['Yield']):\n",
        "    \n",
        "    c = pr*(c/100)\n",
        "    if round(n) < 1:\n",
        "        \n",
        "        tp = (pr / ((1+r[0])**n))\n",
        "            \n",
        "        return tp*bh/100\n",
        "    else:\n",
        "        f = n\n",
        "        t = int(round(n))\n",
        "        price = np.zeros(t+1)\n",
        "        \n",
        "        for i in range(t):\n",
        "            if i + 1 <= 3:\n",
        "                price[i] = np.pv(rate=r[0], nper=i+1, pmt=0, fv=-c)\n",
        "                price[t] = (pr/((1+r[0])**f))\n",
        "                \n",
        "            elif (i+1>3) & (i+1<=5):\n",
        "                price[i] = np.pv(rate=r[1], nper=i+1, pmt=0, fv=-c)\n",
        "                price[t] = (pr/((1+r[1])**f))\n",
        "                \n",
        "            elif (i+1>5) & (i+1<=10):\n",
        "                price[i] = np.pv(rate=r[2], nper=i+1, pmt=0, fv=-c)\n",
        "                price[t] = (pr/((1+r[2])**f))\n",
        "            else:\n",
        "                price[i] = np.pv(rate=r[3], nper=i+1, pmt=0, fv=-c)\n",
        "                price[t] = (pr/((1+r[3])**f))\n",
        "        \n",
        "        tp = np.sum(price)*bh/100       \n",
        "        return tp"
      ],
      "execution_count": 0,
      "outputs": []
    },
    {
      "cell_type": "code",
      "metadata": {
        "id": "Eo5ZshelPiBL",
        "colab_type": "code",
        "colab": {}
      },
      "source": [
        "bond_data['EAD'] = bond_data.apply(lambda x : bpv(x['Principal'], x['YearlyRate'], x['Time2Maturity'],x['BondsHeld']),axis=1)"
      ],
      "execution_count": 0,
      "outputs": []
    },
    {
      "cell_type": "code",
      "metadata": {
        "id": "WDSvvyihshpK",
        "colab_type": "code",
        "outputId": "1c880c03-329d-4d36-8bdb-6e50249addc8",
        "colab": {
          "base_uri": "https://localhost:8080/",
          "height": 284
        }
      },
      "source": [
        "bond_data.describe()"
      ],
      "execution_count": 0,
      "outputs": [
        {
          "output_type": "execute_result",
          "data": {
            "text/html": [
              "<div>\n",
              "<style scoped>\n",
              "    .dataframe tbody tr th:only-of-type {\n",
              "        vertical-align: middle;\n",
              "    }\n",
              "\n",
              "    .dataframe tbody tr th {\n",
              "        vertical-align: top;\n",
              "    }\n",
              "\n",
              "    .dataframe thead th {\n",
              "        text-align: right;\n",
              "    }\n",
              "</style>\n",
              "<table border=\"1\" class=\"dataframe\">\n",
              "  <thead>\n",
              "    <tr style=\"text-align: right;\">\n",
              "      <th></th>\n",
              "      <th>id</th>\n",
              "      <th>PurchasePrice</th>\n",
              "      <th>CurrentCoupon</th>\n",
              "      <th>CouponsRemaining</th>\n",
              "      <th>Time2Maturity</th>\n",
              "      <th>BondsHeld</th>\n",
              "      <th>YearlyRate</th>\n",
              "      <th>Principal</th>\n",
              "      <th>PD</th>\n",
              "      <th>EAD</th>\n",
              "    </tr>\n",
              "  </thead>\n",
              "  <tbody>\n",
              "    <tr>\n",
              "      <th>count</th>\n",
              "      <td>178502.000000</td>\n",
              "      <td>178502.000000</td>\n",
              "      <td>178502.000000</td>\n",
              "      <td>178502.000000</td>\n",
              "      <td>178502.000000</td>\n",
              "      <td>1.785020e+05</td>\n",
              "      <td>178502.000000</td>\n",
              "      <td>178502.000000</td>\n",
              "      <td>178502.000000</td>\n",
              "      <td>1.785020e+05</td>\n",
              "    </tr>\n",
              "    <tr>\n",
              "      <th>mean</th>\n",
              "      <td>89251.500000</td>\n",
              "      <td>103.453157</td>\n",
              "      <td>5.644648</td>\n",
              "      <td>64.591786</td>\n",
              "      <td>6.586240</td>\n",
              "      <td>2.675009e+05</td>\n",
              "      <td>1.503375</td>\n",
              "      <td>105.383872</td>\n",
              "      <td>0.250443</td>\n",
              "      <td>2.946702e+05</td>\n",
              "    </tr>\n",
              "    <tr>\n",
              "      <th>std</th>\n",
              "      <td>51529.233213</td>\n",
              "      <td>9.851203</td>\n",
              "      <td>1.770356</td>\n",
              "      <td>21.482486</td>\n",
              "      <td>6.306710</td>\n",
              "      <td>7.727148e+05</td>\n",
              "      <td>0.865995</td>\n",
              "      <td>19.359049</td>\n",
              "      <td>0.283668</td>\n",
              "      <td>8.916276e+05</td>\n",
              "    </tr>\n",
              "    <tr>\n",
              "      <th>min</th>\n",
              "      <td>1.000000</td>\n",
              "      <td>1.062000</td>\n",
              "      <td>0.000000</td>\n",
              "      <td>0.000000</td>\n",
              "      <td>0.085313</td>\n",
              "      <td>7.000000e+00</td>\n",
              "      <td>0.010000</td>\n",
              "      <td>0.000000</td>\n",
              "      <td>0.000000</td>\n",
              "      <td>0.000000e+00</td>\n",
              "    </tr>\n",
              "    <tr>\n",
              "      <th>25%</th>\n",
              "      <td>44626.250000</td>\n",
              "      <td>99.445000</td>\n",
              "      <td>5.000000</td>\n",
              "      <td>50.000000</td>\n",
              "      <td>2.499073</td>\n",
              "      <td>1.000000e+04</td>\n",
              "      <td>0.750000</td>\n",
              "      <td>97.000000</td>\n",
              "      <td>0.015759</td>\n",
              "      <td>1.017936e+04</td>\n",
              "    </tr>\n",
              "    <tr>\n",
              "      <th>50%</th>\n",
              "      <td>89251.500000</td>\n",
              "      <td>102.327000</td>\n",
              "      <td>6.000000</td>\n",
              "      <td>62.000000</td>\n",
              "      <td>4.781210</td>\n",
              "      <td>2.500000e+04</td>\n",
              "      <td>1.500000</td>\n",
              "      <td>102.000000</td>\n",
              "      <td>0.125222</td>\n",
              "      <td>2.534558e+04</td>\n",
              "    </tr>\n",
              "    <tr>\n",
              "      <th>75%</th>\n",
              "      <td>133876.750000</td>\n",
              "      <td>107.176000</td>\n",
              "      <td>7.000000</td>\n",
              "      <td>76.000000</td>\n",
              "      <td>8.269435</td>\n",
              "      <td>1.000000e+05</td>\n",
              "      <td>2.250000</td>\n",
              "      <td>109.000000</td>\n",
              "      <td>0.423630</td>\n",
              "      <td>1.074680e+05</td>\n",
              "    </tr>\n",
              "    <tr>\n",
              "      <th>max</th>\n",
              "      <td>178502.000000</td>\n",
              "      <td>166.276000</td>\n",
              "      <td>14.000000</td>\n",
              "      <td>160.000000</td>\n",
              "      <td>84.159498</td>\n",
              "      <td>5.000001e+06</td>\n",
              "      <td>3.000000</td>\n",
              "      <td>1145.000000</td>\n",
              "      <td>0.999995</td>\n",
              "      <td>1.503478e+07</td>\n",
              "    </tr>\n",
              "  </tbody>\n",
              "</table>\n",
              "</div>"
            ],
            "text/plain": [
              "                  id  PurchasePrice  ...             PD           EAD\n",
              "count  178502.000000  178502.000000  ...  178502.000000  1.785020e+05\n",
              "mean    89251.500000     103.453157  ...       0.250443  2.946702e+05\n",
              "std     51529.233213       9.851203  ...       0.283668  8.916276e+05\n",
              "min         1.000000       1.062000  ...       0.000000  0.000000e+00\n",
              "25%     44626.250000      99.445000  ...       0.015759  1.017936e+04\n",
              "50%     89251.500000     102.327000  ...       0.125222  2.534558e+04\n",
              "75%    133876.750000     107.176000  ...       0.423630  1.074680e+05\n",
              "max    178502.000000     166.276000  ...       0.999995  1.503478e+07\n",
              "\n",
              "[8 rows x 10 columns]"
            ]
          },
          "metadata": {
            "tags": []
          },
          "execution_count": 7
        }
      ]
    },
    {
      "cell_type": "markdown",
      "metadata": {
        "id": "lEmUW7vnAykE",
        "colab_type": "text"
      },
      "source": [
        "# Retail Loans\n",
        "\n",
        "For the loans portfolio, considering monthly payments it was required to find the amount of payment by using the formula of an immediate annuity, the remaining payments were bring to present value converting the yearly rate to a monthly effective interest rate, hence the result the loan outstanding balance. By adding each one of these results the EAD of our loan portfolio resulted in $102.17 million dollars."
      ]
    },
    {
      "cell_type": "code",
      "metadata": {
        "id": "K9Z_BUm7vWD9",
        "colab_type": "code",
        "colab": {}
      },
      "source": [
        "#Pricing the Retail Loans\n",
        "\n",
        "def rloan_pricing(a, n, r, ci):\n",
        "  # Transforming the annual rate\n",
        "  i = ((r+1)**(1/12))-1\n",
        "  # Finding the payment\n",
        "  pmt = np.pmt(i, n, -a)\n",
        "  \n",
        "  # Calculating the price at time n-ci\n",
        "  payment_series = np.repeat(pmt, n-ci+1)\n",
        "  payment_series[0] -= pmt\n",
        "  pvt = np.npv(i, payment_series)\n",
        "  return pvt\n",
        "    "
      ],
      "execution_count": 0,
      "outputs": []
    },
    {
      "cell_type": "code",
      "metadata": {
        "id": "GivoVUoy6uQn",
        "colab_type": "code",
        "outputId": "3493a2b3-0ba5-4ca9-c0ad-49b57e05e7d7",
        "colab": {
          "base_uri": "https://localhost:8080/",
          "height": 284
        }
      },
      "source": [
        "rloan_data['EAD'] = rloan_data.apply(lambda x: rloan_pricing(x['OriginalAmount'], x['Term'], x['YearlyInterestRate'], x['CurrentInstallment']), axis=1)\n",
        "rloan_data.describe()"
      ],
      "execution_count": 0,
      "outputs": [
        {
          "output_type": "execute_result",
          "data": {
            "text/html": [
              "<div>\n",
              "<style scoped>\n",
              "    .dataframe tbody tr th:only-of-type {\n",
              "        vertical-align: middle;\n",
              "    }\n",
              "\n",
              "    .dataframe tbody tr th {\n",
              "        vertical-align: top;\n",
              "    }\n",
              "\n",
              "    .dataframe thead th {\n",
              "        text-align: right;\n",
              "    }\n",
              "</style>\n",
              "<table border=\"1\" class=\"dataframe\">\n",
              "  <thead>\n",
              "    <tr style=\"text-align: right;\">\n",
              "      <th></th>\n",
              "      <th>ID</th>\n",
              "      <th>OriginalAmount</th>\n",
              "      <th>Term</th>\n",
              "      <th>YearlyInterestRate</th>\n",
              "      <th>CurrentInstallment</th>\n",
              "      <th>PD</th>\n",
              "      <th>EAD</th>\n",
              "    </tr>\n",
              "  </thead>\n",
              "  <tbody>\n",
              "    <tr>\n",
              "      <th>count</th>\n",
              "      <td>21537.00000</td>\n",
              "      <td>21537.000000</td>\n",
              "      <td>21537.000000</td>\n",
              "      <td>21537.000000</td>\n",
              "      <td>21537.000000</td>\n",
              "      <td>2.153700e+04</td>\n",
              "      <td>21537.000000</td>\n",
              "    </tr>\n",
              "    <tr>\n",
              "      <th>mean</th>\n",
              "      <td>10769.00000</td>\n",
              "      <td>8572.190231</td>\n",
              "      <td>27.656498</td>\n",
              "      <td>0.185789</td>\n",
              "      <td>13.354831</td>\n",
              "      <td>2.501155e-01</td>\n",
              "      <td>4743.769688</td>\n",
              "    </tr>\n",
              "    <tr>\n",
              "      <th>std</th>\n",
              "      <td>6217.34071</td>\n",
              "      <td>10780.933077</td>\n",
              "      <td>11.748903</td>\n",
              "      <td>0.080827</td>\n",
              "      <td>10.109312</td>\n",
              "      <td>2.832362e-01</td>\n",
              "      <td>6997.238285</td>\n",
              "    </tr>\n",
              "    <tr>\n",
              "      <th>min</th>\n",
              "      <td>1.00000</td>\n",
              "      <td>1137.000000</td>\n",
              "      <td>11.000000</td>\n",
              "      <td>0.050000</td>\n",
              "      <td>1.000000</td>\n",
              "      <td>1.176836e-13</td>\n",
              "      <td>72.267310</td>\n",
              "    </tr>\n",
              "    <tr>\n",
              "      <th>25%</th>\n",
              "      <td>5385.00000</td>\n",
              "      <td>2950.000000</td>\n",
              "      <td>22.000000</td>\n",
              "      <td>0.120000</td>\n",
              "      <td>6.000000</td>\n",
              "      <td>1.625598e-02</td>\n",
              "      <td>1293.889865</td>\n",
              "    </tr>\n",
              "    <tr>\n",
              "      <th>50%</th>\n",
              "      <td>10769.00000</td>\n",
              "      <td>5438.000000</td>\n",
              "      <td>23.000000</td>\n",
              "      <td>0.190000</td>\n",
              "      <td>11.000000</td>\n",
              "      <td>1.243691e-01</td>\n",
              "      <td>2641.813949</td>\n",
              "    </tr>\n",
              "    <tr>\n",
              "      <th>75%</th>\n",
              "      <td>16153.00000</td>\n",
              "      <td>9780.000000</td>\n",
              "      <td>35.000000</td>\n",
              "      <td>0.260000</td>\n",
              "      <td>18.000000</td>\n",
              "      <td>4.229269e-01</td>\n",
              "      <td>5469.588894</td>\n",
              "    </tr>\n",
              "    <tr>\n",
              "      <th>max</th>\n",
              "      <td>21537.00000</td>\n",
              "      <td>134750.000000</td>\n",
              "      <td>69.000000</td>\n",
              "      <td>0.320000</td>\n",
              "      <td>61.000000</td>\n",
              "      <td>9.998771e-01</td>\n",
              "      <td>126741.914134</td>\n",
              "    </tr>\n",
              "  </tbody>\n",
              "</table>\n",
              "</div>"
            ],
            "text/plain": [
              "                ID  OriginalAmount  ...            PD            EAD\n",
              "count  21537.00000    21537.000000  ...  2.153700e+04   21537.000000\n",
              "mean   10769.00000     8572.190231  ...  2.501155e-01    4743.769688\n",
              "std     6217.34071    10780.933077  ...  2.832362e-01    6997.238285\n",
              "min        1.00000     1137.000000  ...  1.176836e-13      72.267310\n",
              "25%     5385.00000     2950.000000  ...  1.625598e-02    1293.889865\n",
              "50%    10769.00000     5438.000000  ...  1.243691e-01    2641.813949\n",
              "75%    16153.00000     9780.000000  ...  4.229269e-01    5469.588894\n",
              "max    21537.00000   134750.000000  ...  9.998771e-01  126741.914134\n",
              "\n",
              "[8 rows x 7 columns]"
            ]
          },
          "metadata": {
            "tags": []
          },
          "execution_count": 8
        }
      ]
    },
    {
      "cell_type": "markdown",
      "metadata": {
        "id": "Jg1mSIt4CSwR",
        "colab_type": "text"
      },
      "source": [
        "## Mortgages\n",
        "\n",
        "For the mortgages portfolio, considering monthly payments and converting the annual rate to a monthly effective interest rate, first the value of the payment was calculated using the formula of an immediate annuity, then the standing amount was calculated taking into consideration only the remaining installments minus the collateral, if the exposure was negative the minimum value considered was zero. Thus, the EAD of our mortgage portfolio resulted in $4,507.96 million dollars."
      ]
    },
    {
      "cell_type": "code",
      "metadata": {
        "id": "UvnYMLs0_VXY",
        "colab_type": "code",
        "colab": {}
      },
      "source": [
        "#Pricing the Mortgages\n",
        "\n",
        "def mort_pricing(a, n, r, ci, co):\n",
        "  \n",
        "  # Transforming the annual rate\n",
        "  i = ((r+1)**(1/12))-1\n",
        "  # Finding the payment\n",
        "  n = n*12\n",
        "  pmt = np.pmt(i, n, -a)\n",
        "  \n",
        "  # Calculating the price at time n-ci\n",
        "  payment_series = np.repeat(pmt, n+1-ci)\n",
        "  payment_series[0] -= pmt\n",
        "  pvt = max(np.npv(i, payment_series)-co, 0)\n",
        "\n",
        "  return pvt\n",
        "    "
      ],
      "execution_count": 0,
      "outputs": []
    },
    {
      "cell_type": "code",
      "metadata": {
        "id": "hNzWRUNfLLo6",
        "colab_type": "code",
        "outputId": "dd71b272-8a85-4465-a2ee-20e936d693c9",
        "colab": {
          "base_uri": "https://localhost:8080/",
          "height": 284
        }
      },
      "source": [
        "mortgage_data['EAD'] = mortgage_data.apply(lambda x: mort_pricing(x['OriginalAmount'], x['TermYears'], x['Rate'], x['CurrentInstallment'], x['Collateral_valuation']), axis=1)\n",
        "mortgage_data.describe()"
      ],
      "execution_count": 0,
      "outputs": [
        {
          "output_type": "execute_result",
          "data": {
            "text/html": [
              "<div>\n",
              "<style scoped>\n",
              "    .dataframe tbody tr th:only-of-type {\n",
              "        vertical-align: middle;\n",
              "    }\n",
              "\n",
              "    .dataframe tbody tr th {\n",
              "        vertical-align: top;\n",
              "    }\n",
              "\n",
              "    .dataframe thead th {\n",
              "        text-align: right;\n",
              "    }\n",
              "</style>\n",
              "<table border=\"1\" class=\"dataframe\">\n",
              "  <thead>\n",
              "    <tr style=\"text-align: right;\">\n",
              "      <th></th>\n",
              "      <th>ID</th>\n",
              "      <th>OriginalAmount</th>\n",
              "      <th>TermYears</th>\n",
              "      <th>Collateral_valuation</th>\n",
              "      <th>CurrentInstallment</th>\n",
              "      <th>Rate</th>\n",
              "      <th>PD</th>\n",
              "      <th>LGD</th>\n",
              "      <th>EAD</th>\n",
              "    </tr>\n",
              "  </thead>\n",
              "  <tbody>\n",
              "    <tr>\n",
              "      <th>count</th>\n",
              "      <td>28463.000000</td>\n",
              "      <td>2.846300e+04</td>\n",
              "      <td>28463.000000</td>\n",
              "      <td>2.846300e+04</td>\n",
              "      <td>28463.000000</td>\n",
              "      <td>28463.000000</td>\n",
              "      <td>2.846300e+04</td>\n",
              "      <td>28463.000000</td>\n",
              "      <td>2.846300e+04</td>\n",
              "    </tr>\n",
              "    <tr>\n",
              "      <th>mean</th>\n",
              "      <td>14232.000000</td>\n",
              "      <td>1.079277e+06</td>\n",
              "      <td>25.096582</td>\n",
              "      <td>8.043405e+05</td>\n",
              "      <td>150.281594</td>\n",
              "      <td>0.074991</td>\n",
              "      <td>2.521387e-01</td>\n",
              "      <td>0.500315</td>\n",
              "      <td>1.425697e+05</td>\n",
              "    </tr>\n",
              "    <tr>\n",
              "      <th>std</th>\n",
              "      <td>8216.704692</td>\n",
              "      <td>1.197933e+06</td>\n",
              "      <td>11.204059</td>\n",
              "      <td>1.025011e+06</td>\n",
              "      <td>115.199717</td>\n",
              "      <td>0.031922</td>\n",
              "      <td>2.847395e-01</td>\n",
              "      <td>0.217920</td>\n",
              "      <td>3.904055e+05</td>\n",
              "    </tr>\n",
              "    <tr>\n",
              "      <th>min</th>\n",
              "      <td>1.000000</td>\n",
              "      <td>1.429020e+05</td>\n",
              "      <td>11.000000</td>\n",
              "      <td>1.257000e+03</td>\n",
              "      <td>1.000000</td>\n",
              "      <td>0.020000</td>\n",
              "      <td>7.142065e-13</td>\n",
              "      <td>0.005243</td>\n",
              "      <td>0.000000e+00</td>\n",
              "    </tr>\n",
              "    <tr>\n",
              "      <th>25%</th>\n",
              "      <td>7116.500000</td>\n",
              "      <td>3.813850e+05</td>\n",
              "      <td>20.000000</td>\n",
              "      <td>2.416890e+05</td>\n",
              "      <td>63.000000</td>\n",
              "      <td>0.048000</td>\n",
              "      <td>1.613579e-02</td>\n",
              "      <td>0.334014</td>\n",
              "      <td>0.000000e+00</td>\n",
              "    </tr>\n",
              "    <tr>\n",
              "      <th>50%</th>\n",
              "      <td>14232.000000</td>\n",
              "      <td>6.977920e+05</td>\n",
              "      <td>23.000000</td>\n",
              "      <td>4.735740e+05</td>\n",
              "      <td>124.000000</td>\n",
              "      <td>0.075000</td>\n",
              "      <td>1.264557e-01</td>\n",
              "      <td>0.499345</td>\n",
              "      <td>0.000000e+00</td>\n",
              "    </tr>\n",
              "    <tr>\n",
              "      <th>75%</th>\n",
              "      <td>21347.500000</td>\n",
              "      <td>1.257019e+06</td>\n",
              "      <td>34.000000</td>\n",
              "      <td>9.538715e+05</td>\n",
              "      <td>215.000000</td>\n",
              "      <td>0.103000</td>\n",
              "      <td>4.234764e-01</td>\n",
              "      <td>0.667212</td>\n",
              "      <td>1.197973e+05</td>\n",
              "    </tr>\n",
              "    <tr>\n",
              "      <th>max</th>\n",
              "      <td>28463.000000</td>\n",
              "      <td>1.673960e+07</td>\n",
              "      <td>68.000000</td>\n",
              "      <td>1.729625e+07</td>\n",
              "      <td>731.000000</td>\n",
              "      <td>0.130000</td>\n",
              "      <td>9.999378e-01</td>\n",
              "      <td>0.998240</td>\n",
              "      <td>1.132862e+07</td>\n",
              "    </tr>\n",
              "  </tbody>\n",
              "</table>\n",
              "</div>"
            ],
            "text/plain": [
              "                 ID  OriginalAmount  ...           LGD           EAD\n",
              "count  28463.000000    2.846300e+04  ...  28463.000000  2.846300e+04\n",
              "mean   14232.000000    1.079277e+06  ...      0.500315  1.425697e+05\n",
              "std     8216.704692    1.197933e+06  ...      0.217920  3.904055e+05\n",
              "min        1.000000    1.429020e+05  ...      0.005243  0.000000e+00\n",
              "25%     7116.500000    3.813850e+05  ...      0.334014  0.000000e+00\n",
              "50%    14232.000000    6.977920e+05  ...      0.499345  0.000000e+00\n",
              "75%    21347.500000    1.257019e+06  ...      0.667212  1.197973e+05\n",
              "max    28463.000000    1.673960e+07  ...      0.998240  1.132862e+07\n",
              "\n",
              "[8 rows x 9 columns]"
            ]
          },
          "metadata": {
            "tags": []
          },
          "execution_count": 10
        }
      ]
    },
    {
      "cell_type": "markdown",
      "metadata": {
        "id": "TJjCelyzD3L4",
        "colab_type": "text"
      },
      "source": [
        "## Expected Loss and Loss Given Default\n",
        "\n",
        "The expected loss is the result of the EAD multiplied by the probability of default. \n",
        "\n",
        "#### Probability of Default\n",
        "For the retail and corporate exposure, it was considered a minimum probability of default of 0.03%. \n",
        "\n",
        "#### Loss Given Default\n",
        "For the mortgage portfolio the minimum LGD considered was 10% \n",
        "\n",
        "For the bond portfolio the minimum LGD considered was 45%\n",
        "\n",
        "The PD and LGD floors can be found in the [Canadian OFSI Chapter 6](https://www.osfi-bsif.gc.ca/Eng/fi-if/rg-ro/gdn-ort/gl-ld/Pages/CAR19_chpt6.aspx)"
      ]
    },
    {
      "cell_type": "code",
      "metadata": {
        "id": "gPBu8GZ7c2qp",
        "colab_type": "code",
        "colab": {}
      },
      "source": [
        "# EL function and LGD function \n",
        "def floor_pd_lgd(x, minv=0.0003):\n",
        "  if x < minv:\n",
        "    return minv\n",
        "  else:\n",
        "    return x\n"
      ],
      "execution_count": 0,
      "outputs": []
    },
    {
      "cell_type": "code",
      "metadata": {
        "id": "8uVFFL5hgXDq",
        "colab_type": "code",
        "outputId": "ef9a2b18-2f32-4397-ea89-85123d413a82",
        "colab": {
          "base_uri": "https://localhost:8080/",
          "height": 284
        }
      },
      "source": [
        "# Adding a new column PD2, where if the min PD=0.03% otherwise it will be the one assigned\n",
        "bond_data['PD2'] = bond_data.apply(lambda x: floor_pd_lgd(x['PD'], minv=0.0003), axis=1)\n",
        "bond_data.describe()"
      ],
      "execution_count": 0,
      "outputs": [
        {
          "output_type": "execute_result",
          "data": {
            "text/html": [
              "<div>\n",
              "<style scoped>\n",
              "    .dataframe tbody tr th:only-of-type {\n",
              "        vertical-align: middle;\n",
              "    }\n",
              "\n",
              "    .dataframe tbody tr th {\n",
              "        vertical-align: top;\n",
              "    }\n",
              "\n",
              "    .dataframe thead th {\n",
              "        text-align: right;\n",
              "    }\n",
              "</style>\n",
              "<table border=\"1\" class=\"dataframe\">\n",
              "  <thead>\n",
              "    <tr style=\"text-align: right;\">\n",
              "      <th></th>\n",
              "      <th>id</th>\n",
              "      <th>PurchasePrice</th>\n",
              "      <th>CurrentCoupon</th>\n",
              "      <th>CouponsRemaining</th>\n",
              "      <th>Time2Maturity</th>\n",
              "      <th>BondsHeld</th>\n",
              "      <th>YearlyRate</th>\n",
              "      <th>Principal</th>\n",
              "      <th>PD</th>\n",
              "      <th>EAD</th>\n",
              "      <th>PD2</th>\n",
              "    </tr>\n",
              "  </thead>\n",
              "  <tbody>\n",
              "    <tr>\n",
              "      <th>count</th>\n",
              "      <td>178502.000000</td>\n",
              "      <td>178502.000000</td>\n",
              "      <td>178502.000000</td>\n",
              "      <td>178502.000000</td>\n",
              "      <td>178502.000000</td>\n",
              "      <td>1.785020e+05</td>\n",
              "      <td>178502.000000</td>\n",
              "      <td>178502.000000</td>\n",
              "      <td>178502.000000</td>\n",
              "      <td>1.785020e+05</td>\n",
              "      <td>178502.000000</td>\n",
              "    </tr>\n",
              "    <tr>\n",
              "      <th>mean</th>\n",
              "      <td>89251.500000</td>\n",
              "      <td>103.453157</td>\n",
              "      <td>5.644648</td>\n",
              "      <td>64.591786</td>\n",
              "      <td>6.586240</td>\n",
              "      <td>2.675009e+05</td>\n",
              "      <td>1.503375</td>\n",
              "      <td>105.383872</td>\n",
              "      <td>0.250443</td>\n",
              "      <td>2.946702e+05</td>\n",
              "      <td>0.250458</td>\n",
              "    </tr>\n",
              "    <tr>\n",
              "      <th>std</th>\n",
              "      <td>51529.233213</td>\n",
              "      <td>9.851203</td>\n",
              "      <td>1.770356</td>\n",
              "      <td>21.482486</td>\n",
              "      <td>6.306710</td>\n",
              "      <td>7.727148e+05</td>\n",
              "      <td>0.865995</td>\n",
              "      <td>19.359049</td>\n",
              "      <td>0.283668</td>\n",
              "      <td>8.916276e+05</td>\n",
              "      <td>0.283655</td>\n",
              "    </tr>\n",
              "    <tr>\n",
              "      <th>min</th>\n",
              "      <td>1.000000</td>\n",
              "      <td>1.062000</td>\n",
              "      <td>0.000000</td>\n",
              "      <td>0.000000</td>\n",
              "      <td>0.085313</td>\n",
              "      <td>7.000000e+00</td>\n",
              "      <td>0.010000</td>\n",
              "      <td>0.000000</td>\n",
              "      <td>0.000000</td>\n",
              "      <td>0.000000e+00</td>\n",
              "      <td>0.000300</td>\n",
              "    </tr>\n",
              "    <tr>\n",
              "      <th>25%</th>\n",
              "      <td>44626.250000</td>\n",
              "      <td>99.445000</td>\n",
              "      <td>5.000000</td>\n",
              "      <td>50.000000</td>\n",
              "      <td>2.499073</td>\n",
              "      <td>1.000000e+04</td>\n",
              "      <td>0.750000</td>\n",
              "      <td>97.000000</td>\n",
              "      <td>0.015759</td>\n",
              "      <td>1.017936e+04</td>\n",
              "      <td>0.015759</td>\n",
              "    </tr>\n",
              "    <tr>\n",
              "      <th>50%</th>\n",
              "      <td>89251.500000</td>\n",
              "      <td>102.327000</td>\n",
              "      <td>6.000000</td>\n",
              "      <td>62.000000</td>\n",
              "      <td>4.781210</td>\n",
              "      <td>2.500000e+04</td>\n",
              "      <td>1.500000</td>\n",
              "      <td>102.000000</td>\n",
              "      <td>0.125222</td>\n",
              "      <td>2.534558e+04</td>\n",
              "      <td>0.125222</td>\n",
              "    </tr>\n",
              "    <tr>\n",
              "      <th>75%</th>\n",
              "      <td>133876.750000</td>\n",
              "      <td>107.176000</td>\n",
              "      <td>7.000000</td>\n",
              "      <td>76.000000</td>\n",
              "      <td>8.269435</td>\n",
              "      <td>1.000000e+05</td>\n",
              "      <td>2.250000</td>\n",
              "      <td>109.000000</td>\n",
              "      <td>0.423630</td>\n",
              "      <td>1.074680e+05</td>\n",
              "      <td>0.423630</td>\n",
              "    </tr>\n",
              "    <tr>\n",
              "      <th>max</th>\n",
              "      <td>178502.000000</td>\n",
              "      <td>166.276000</td>\n",
              "      <td>14.000000</td>\n",
              "      <td>160.000000</td>\n",
              "      <td>84.159498</td>\n",
              "      <td>5.000001e+06</td>\n",
              "      <td>3.000000</td>\n",
              "      <td>1145.000000</td>\n",
              "      <td>0.999995</td>\n",
              "      <td>1.503478e+07</td>\n",
              "      <td>0.999995</td>\n",
              "    </tr>\n",
              "  </tbody>\n",
              "</table>\n",
              "</div>"
            ],
            "text/plain": [
              "                  id  PurchasePrice  ...           EAD            PD2\n",
              "count  178502.000000  178502.000000  ...  1.785020e+05  178502.000000\n",
              "mean    89251.500000     103.453157  ...  2.946702e+05       0.250458\n",
              "std     51529.233213       9.851203  ...  8.916276e+05       0.283655\n",
              "min         1.000000       1.062000  ...  0.000000e+00       0.000300\n",
              "25%     44626.250000      99.445000  ...  1.017936e+04       0.015759\n",
              "50%     89251.500000     102.327000  ...  2.534558e+04       0.125222\n",
              "75%    133876.750000     107.176000  ...  1.074680e+05       0.423630\n",
              "max    178502.000000     166.276000  ...  1.503478e+07       0.999995\n",
              "\n",
              "[8 rows x 11 columns]"
            ]
          },
          "metadata": {
            "tags": []
          },
          "execution_count": 15
        }
      ]
    },
    {
      "cell_type": "code",
      "metadata": {
        "id": "nniLgdhFdtWz",
        "colab_type": "code",
        "colab": {}
      },
      "source": [
        "# Adding a new column PD2, where if the min PD=0.03% otherwise it will be the one assigned\n",
        "rloan_data['PD2'] = rloan_data.apply(lambda x: floor_pd_lgd(x['PD'], minv=0.0003), axis=1)"
      ],
      "execution_count": 0,
      "outputs": []
    },
    {
      "cell_type": "code",
      "metadata": {
        "id": "l-8Ur1oreOkL",
        "colab_type": "code",
        "outputId": "1b941254-b361-48e3-db4a-430d25249283",
        "colab": {
          "base_uri": "https://localhost:8080/",
          "height": 195
        }
      },
      "source": [
        "# Adding two new columns of PD and LGD to the mortgage data where min LGD=10% and min PD=0.03%\n",
        "mortgage_data['PD2'] = mortgage_data.apply(lambda x: floor_pd_lgd(x['PD'], minv=0.0003), axis=1)\n",
        "mortgage_data['LGD2'] = mortgage_data.apply(lambda x: floor_pd_lgd(x['LGD'], minv=0.1), axis=1)\n",
        "mortgage_data.head()"
      ],
      "execution_count": 0,
      "outputs": [
        {
          "output_type": "execute_result",
          "data": {
            "text/html": [
              "<div>\n",
              "<style scoped>\n",
              "    .dataframe tbody tr th:only-of-type {\n",
              "        vertical-align: middle;\n",
              "    }\n",
              "\n",
              "    .dataframe tbody tr th {\n",
              "        vertical-align: top;\n",
              "    }\n",
              "\n",
              "    .dataframe thead th {\n",
              "        text-align: right;\n",
              "    }\n",
              "</style>\n",
              "<table border=\"1\" class=\"dataframe\">\n",
              "  <thead>\n",
              "    <tr style=\"text-align: right;\">\n",
              "      <th></th>\n",
              "      <th>ID</th>\n",
              "      <th>OriginalAmount</th>\n",
              "      <th>TermYears</th>\n",
              "      <th>Collateral_valuation</th>\n",
              "      <th>CurrentInstallment</th>\n",
              "      <th>Rate</th>\n",
              "      <th>PD</th>\n",
              "      <th>LGD</th>\n",
              "      <th>EAD</th>\n",
              "      <th>PD2</th>\n",
              "      <th>LGD2</th>\n",
              "    </tr>\n",
              "  </thead>\n",
              "  <tbody>\n",
              "    <tr>\n",
              "      <th>0</th>\n",
              "      <td>18101</td>\n",
              "      <td>2067863</td>\n",
              "      <td>35</td>\n",
              "      <td>678311</td>\n",
              "      <td>306</td>\n",
              "      <td>0.082</td>\n",
              "      <td>0.004728</td>\n",
              "      <td>0.497927</td>\n",
              "      <td>4.852612e+05</td>\n",
              "      <td>0.004728</td>\n",
              "      <td>0.497927</td>\n",
              "    </tr>\n",
              "    <tr>\n",
              "      <th>1</th>\n",
              "      <td>7835</td>\n",
              "      <td>309683</td>\n",
              "      <td>22</td>\n",
              "      <td>259913</td>\n",
              "      <td>166</td>\n",
              "      <td>0.117</td>\n",
              "      <td>0.176124</td>\n",
              "      <td>0.278921</td>\n",
              "      <td>0.000000e+00</td>\n",
              "      <td>0.176124</td>\n",
              "      <td>0.278921</td>\n",
              "    </tr>\n",
              "    <tr>\n",
              "      <th>2</th>\n",
              "      <td>26416</td>\n",
              "      <td>2998421</td>\n",
              "      <td>21</td>\n",
              "      <td>2218432</td>\n",
              "      <td>133</td>\n",
              "      <td>0.092</td>\n",
              "      <td>0.014447</td>\n",
              "      <td>0.570983</td>\n",
              "      <td>0.000000e+00</td>\n",
              "      <td>0.014447</td>\n",
              "      <td>0.570983</td>\n",
              "    </tr>\n",
              "    <tr>\n",
              "      <th>3</th>\n",
              "      <td>7304</td>\n",
              "      <td>483754</td>\n",
              "      <td>23</td>\n",
              "      <td>246967</td>\n",
              "      <td>152</td>\n",
              "      <td>0.032</td>\n",
              "      <td>0.168241</td>\n",
              "      <td>0.405557</td>\n",
              "      <td>1.378896e+04</td>\n",
              "      <td>0.168241</td>\n",
              "      <td>0.405557</td>\n",
              "    </tr>\n",
              "    <tr>\n",
              "      <th>4</th>\n",
              "      <td>14807</td>\n",
              "      <td>1808956</td>\n",
              "      <td>37</td>\n",
              "      <td>499590</td>\n",
              "      <td>93</td>\n",
              "      <td>0.114</td>\n",
              "      <td>0.006678</td>\n",
              "      <td>0.457563</td>\n",
              "      <td>1.264946e+06</td>\n",
              "      <td>0.006678</td>\n",
              "      <td>0.457563</td>\n",
              "    </tr>\n",
              "  </tbody>\n",
              "</table>\n",
              "</div>"
            ],
            "text/plain": [
              "      ID  OriginalAmount  TermYears  ...           EAD       PD2      LGD2\n",
              "0  18101         2067863         35  ...  4.852612e+05  0.004728  0.497927\n",
              "1   7835          309683         22  ...  0.000000e+00  0.176124  0.278921\n",
              "2  26416         2998421         21  ...  0.000000e+00  0.014447  0.570983\n",
              "3   7304          483754         23  ...  1.378896e+04  0.168241  0.405557\n",
              "4  14807         1808956         37  ...  1.264946e+06  0.006678  0.457563\n",
              "\n",
              "[5 rows x 11 columns]"
            ]
          },
          "metadata": {
            "tags": []
          },
          "execution_count": 14
        }
      ]
    },
    {
      "cell_type": "markdown",
      "metadata": {
        "id": "_MjcpeWJGq9N",
        "colab_type": "text"
      },
      "source": [
        "### Calculating the Expected Loss"
      ]
    },
    {
      "cell_type": "code",
      "metadata": {
        "id": "whY35XwKfMme",
        "colab_type": "code",
        "colab": {}
      },
      "source": [
        "# Function to calculate EL \n",
        "def expected_loss(exp, pd, lgd):\n",
        "  return exp*pd*lgd"
      ],
      "execution_count": 0,
      "outputs": []
    },
    {
      "cell_type": "code",
      "metadata": {
        "id": "GzhY66TafePM",
        "colab_type": "code",
        "outputId": "18d5f0df-6f70-441a-f561-53d2a36c6ac1",
        "colab": {
          "base_uri": "https://localhost:8080/",
          "height": 168
        }
      },
      "source": [
        "# Calculating the EL of retail loans\n",
        "rloan_data['EL'] = rloan_data.apply(lambda x: expected_loss(x['EAD'], x['PD2'],lgd=1), axis=1)\n",
        "rloan_data['EL'].describe()"
      ],
      "execution_count": 0,
      "outputs": [
        {
          "output_type": "execute_result",
          "data": {
            "text/plain": [
              "count    21537.000000\n",
              "mean      1188.772282\n",
              "std       2913.095540\n",
              "min          0.027615\n",
              "25%         35.795763\n",
              "50%        278.113234\n",
              "75%       1127.149569\n",
              "max      76874.694465\n",
              "Name: EL, dtype: float64"
            ]
          },
          "metadata": {
            "tags": []
          },
          "execution_count": 17
        }
      ]
    },
    {
      "cell_type": "code",
      "metadata": {
        "id": "3imgHx3QhcsV",
        "colab_type": "code",
        "outputId": "3d585ad0-2c6e-4284-a199-c5942f042dbc",
        "colab": {
          "base_uri": "https://localhost:8080/",
          "height": 168
        }
      },
      "source": [
        "# Calculating the EL of mortgages\n",
        "mortgage_data['EL'] = mortgage_data.apply(lambda x: expected_loss(x['EAD'], x['PD2'],x['LGD2']), axis=1)\n",
        "mortgage_data['EL'].describe()\n"
      ],
      "execution_count": 0,
      "outputs": [
        {
          "output_type": "execute_result",
          "data": {
            "text/plain": [
              "count    2.846300e+04\n",
              "mean     1.775310e+04\n",
              "std      7.905192e+04\n",
              "min      0.000000e+00\n",
              "25%      0.000000e+00\n",
              "50%      0.000000e+00\n",
              "75%      2.986642e+03\n",
              "max      2.402081e+06\n",
              "Name: EL, dtype: float64"
            ]
          },
          "metadata": {
            "tags": []
          },
          "execution_count": 18
        }
      ]
    },
    {
      "cell_type": "code",
      "metadata": {
        "id": "v987eH9nf5rV",
        "colab_type": "code",
        "outputId": "333d6258-75e5-48a8-db8a-2f38f2bb9ad1",
        "colab": {
          "base_uri": "https://localhost:8080/",
          "height": 168
        }
      },
      "source": [
        "# Calculating EL of corporate bonds\n",
        "bond_data['EL'] = bond_data.apply(lambda x: expected_loss(x['EAD'], x['PD2'],lgd=0.45), axis=1)\n",
        "bond_data['EL'].describe()"
      ],
      "execution_count": 0,
      "outputs": [
        {
          "output_type": "execute_result",
          "data": {
            "text/plain": [
              "count    1.785020e+05\n",
              "mean     3.313238e+04\n",
              "std      1.552920e+05\n",
              "min      0.000000e+00\n",
              "25%      1.709387e+02\n",
              "50%      1.418027e+03\n",
              "75%      7.527994e+03\n",
              "max      4.786673e+06\n",
              "Name: EL, dtype: float64"
            ]
          },
          "metadata": {
            "tags": []
          },
          "execution_count": 19
        }
      ]
    },
    {
      "cell_type": "markdown",
      "metadata": {
        "id": "tFAJ9N2iqPKw",
        "colab_type": "text"
      },
      "source": [
        "## Basel III Capital Requirements\n",
        "\n",
        "Recalling the last lecture, the equation for the capital requirement of any operation is:\n",
        "\n",
        "$$\n",
        "K = LGD \\cdot \\left\\{ N\\left( \\sqrt{\\frac{1}{1-R}} \\cdot N^{-1}(PD) + \\sqrt{\\frac{R}{1-R}} \\cdot N^{-1}(0.999) \\right) - PD \\right\\} \\left( \\frac{1 + (M + 2.5)b}{1 - 1.5b}\\right)\n",
        "$$\n",
        "\n",
        "The values of $b$ and $M$ will be variable for bonds, but for retail and mortgages the maturity is fixed at 1, and the b term dissapears. The correlations are given by the regulation:\n",
        "\n",
        "- Mortgages: $R = 0.15$\n",
        "- Revolving: $R = 0.04$\n",
        "- Other retail: $R = 0.03 \\left( \\frac{1 - e^{-35PD}}{1 - e^{-35}} \\right) + 0.16 \\left( 1 - \\frac{1 - e^{-35PD}}{1 - e^{-35}} \\right)$\n",
        "- Corporate and sovereign exposures $ R = 0.12 \\left( \\frac{1 - e^{-50PD}}{1 - e^{-50}} \\right) + 0.24 \\left( 1 - \\frac{1 - e^{-50PD}}{1 - e^{-50}} \\right)$\n",
        "\n",
        "With this we can calculate the capital requirements and the Risk Weighted Assets (RWA) for this portfolio. Let's start implementing the capital requirement function. Note that we require the cumulative normal distribution  and its inverse functions. For this we will use numpy's sister package [```scipy```](https://scipy.org/) which includes all (traditional) statistical models and quantities for classic stats (not analytics!) in its subpackage [```stats```](https://docs.scipy.org/doc/scipy/reference/tutorial/stats.html).\n",
        "\n",
        "Within the package stats, we find the statistical distribution we need: [```norm```](https://docs.scipy.org/doc/scipy/reference/generated/scipy.stats.norm.html#scipy.stats.norm), the standard normal. Within it, we can call the cumulative function (```norm.cdf```) and the inverse function, ```norm.ppf``` which stands for *[percent point function](https://stackoverflow.com/questions/20626994/how-to-calculate-the-inverse-of-the-normal-cumulative-distribution-function-in-p)*."
      ]
    },
    {
      "cell_type": "code",
      "metadata": {
        "id": "0DkOwGVT8dnM",
        "colab_type": "code",
        "colab": {}
      },
      "source": [
        "# Capital requirement for bonds\n",
        "def capital_requirement_bond(PD, LGD, M):\n",
        "  import numpy as np  \n",
        "  from scipy.stats import norm\n",
        "  R =  0.12 * ( (1 - np.exp(-50 * PD)) / (1 - np.exp(-50)) ) \n",
        "  R += 0.24 * (1 - ( (1 - np.exp(-50 * PD)) / (1 - np.exp(-50)) ) )\n",
        "  b = (0.11852 - 0.05478*np.log(PD))**2\n",
        "  bm = (1+(M-2.5)*b)/(1-(1.5*b))\n",
        "  K = norm.cdf(np.sqrt( (1 - R) ** (-1) ) * norm.ppf(PD) + \n",
        "               np.sqrt( R / (1 - R) ) * norm.ppf(0.999) ) - PD\n",
        "  K *= LGD * bm \n",
        "    \n",
        "  return(K)\n"
      ],
      "execution_count": 0,
      "outputs": []
    },
    {
      "cell_type": "code",
      "metadata": {
        "id": "JiRXNlYL0d-F",
        "colab_type": "code",
        "colab": {}
      },
      "source": [
        "# Capital requirement for mortgages and retail loans \n",
        "def capital_requirement_retail(PD, LGD, t = 'retail'):\n",
        "  import numpy as np\n",
        "  from scipy.stats import norm\n",
        "  if t == \"retail\":\n",
        "    R =  0.03 * ( (1 - np.exp(-35 * PD)) / (1 - np.exp(-35)) ) \n",
        "    R += 0.16 * (1 - ( (1 - np.exp(-35 * PD)) / (1 - np.exp(-35)) ) )\n",
        "    K = norm.cdf(np.sqrt( (1 - R) ** (-1) ) * norm.ppf(PD) + \n",
        "                 np.sqrt( R / (1 - R) ) * norm.ppf(0.999) ) - PD\n",
        "    K *= LGD\n",
        "    \n",
        "  else:\n",
        "    R =  0.15 \n",
        "    K = norm.cdf(np.sqrt( (1 - R) ** (-1) ) * norm.ppf(PD) + \n",
        "                 np.sqrt( R / (1 - R) ) * norm.ppf(0.999) ) - PD\n",
        "    K *= LGD    \n",
        "  return(K) "
      ],
      "execution_count": 0,
      "outputs": []
    },
    {
      "cell_type": "code",
      "metadata": {
        "id": "qwYY6JGJjQJg",
        "colab_type": "code",
        "outputId": "7365d65a-f266-4a21-eb49-63aabd4f2be7",
        "colab": {
          "base_uri": "https://localhost:8080/",
          "height": 168
        }
      },
      "source": [
        "# Calculating the K for every bond\n",
        "bond_data['CapitalReq'] = bond_data.apply(lambda x : capital_requirement_bond(x['PD2'],0.45, x['Time2Maturity']), axis = 1)\n",
        "bond_data['CapitalReq'].describe()\n"
      ],
      "execution_count": 0,
      "outputs": [
        {
          "output_type": "execute_result",
          "data": {
            "text/plain": [
              "count    178502.000000\n",
              "mean          0.144868\n",
              "std           0.081199\n",
              "min           0.000002\n",
              "25%           0.083299\n",
              "50%           0.150237\n",
              "75%           0.197137\n",
              "max           0.922894\n",
              "Name: CapitalReq, dtype: float64"
            ]
          },
          "metadata": {
            "tags": []
          },
          "execution_count": 26
        }
      ]
    },
    {
      "cell_type": "code",
      "metadata": {
        "id": "zsQ7ytTEh7rj",
        "colab_type": "code",
        "colab": {}
      },
      "source": [
        "# Calculating the K for every retail loan\n",
        "rloan_data['CapitalReq'] = rloan_data.apply(lambda x : capital_requirement_retail(x['PD2'],1,'retail'), axis = 1)\n",
        "rloan_data['CapitalReq'].describe()\n"
      ],
      "execution_count": 0,
      "outputs": []
    },
    {
      "cell_type": "code",
      "metadata": {
        "id": "rBqRq4KMiqks",
        "colab_type": "code",
        "colab": {}
      },
      "source": [
        "# Calculating the K for every mortgage\n",
        "mortgage_data['CapitalReq'] = mortgage_data.apply(lambda x : capital_requirement_retail(x['PD2'],x['LGD2'],'mortgage'), axis = 1)\n",
        "mortgage_data['CapitalReq'].describe()"
      ],
      "execution_count": 0,
      "outputs": []
    },
    {
      "cell_type": "markdown",
      "metadata": {
        "id": "ctb1YtILJlaq",
        "colab_type": "text"
      },
      "source": [
        "Now that the Capital Requirement was calculated, the Risk Weighted Assets can be caculated. \n",
        "\n",
        "$RWA = 12.5*K*EAD$\n",
        "\n",
        "For this exercise the capital requirement that the bank must satisfied according to OSFI is 11.5% of its risk weighted assets resulting in a total of $12,820.23 million CAD. "
      ]
    },
    {
      "cell_type": "code",
      "metadata": {
        "id": "RHBohFTfm8ns",
        "colab_type": "code",
        "colab": {}
      },
      "source": [
        "# Calculating the RWA\n",
        "\n",
        "rwa_rloan = 12.5*np.dot(rloan_data['CapitalReq'], rloan_data['EAD'])\n",
        "rwa_mortgage = 12.5*np.dot(mortgage_data['CapitalReq'], mortgage_data['EAD'])\n",
        "rwa_bond = 12.5*np.dot(bond_data['CapitalReq'], bond_data['EAD'])\n",
        "\n",
        "#.115*(rwa_rloan+rwa_mortgage+rwa_bond)\n",
        "rwa = pd.DataFrame([rwa_rloan, rwa_mortgage, rwa_bond], columns=['RWA'], index=['Loan', 'Mortgage','Bond'])\n",
        "rwa['CapitalAdequacy'] = [rwa_rloan*.115,rwa_mortgage*.115,rwa_bond*.115]\n"
      ],
      "execution_count": 0,
      "outputs": []
    },
    {
      "cell_type": "code",
      "metadata": {
        "id": "mt4n_0KrB0Gg",
        "colab_type": "code",
        "outputId": "04993bd9-ab9c-4769-dac6-dbe131361ac9",
        "colab": {
          "base_uri": "https://localhost:8080/",
          "height": 166
        }
      },
      "source": [
        "y = pd.DataFrame([np.sum(rwa['RWA']), np.sum(rwa['CapitalAdequacy'])], columns=['SumTotal'],index=['RWA','CapitalAdequacy'])\n",
        "y = y.transpose()\n",
        "rwa.append(y)\n"
      ],
      "execution_count": 0,
      "outputs": [
        {
          "output_type": "execute_result",
          "data": {
            "text/html": [
              "<div>\n",
              "<style scoped>\n",
              "    .dataframe tbody tr th:only-of-type {\n",
              "        vertical-align: middle;\n",
              "    }\n",
              "\n",
              "    .dataframe tbody tr th {\n",
              "        vertical-align: top;\n",
              "    }\n",
              "\n",
              "    .dataframe thead th {\n",
              "        text-align: right;\n",
              "    }\n",
              "</style>\n",
              "<table border=\"1\" class=\"dataframe\">\n",
              "  <thead>\n",
              "    <tr style=\"text-align: right;\">\n",
              "      <th></th>\n",
              "      <th>RWA</th>\n",
              "      <th>CapitalAdequacy</th>\n",
              "    </tr>\n",
              "  </thead>\n",
              "  <tbody>\n",
              "    <tr>\n",
              "      <th>Loan</th>\n",
              "      <td>1.600855e+08</td>\n",
              "      <td>1.840983e+07</td>\n",
              "    </tr>\n",
              "    <tr>\n",
              "      <th>Mortgage</th>\n",
              "      <td>6.484765e+09</td>\n",
              "      <td>7.457480e+08</td>\n",
              "    </tr>\n",
              "    <tr>\n",
              "      <th>Bond</th>\n",
              "      <td>1.048354e+11</td>\n",
              "      <td>1.205607e+10</td>\n",
              "    </tr>\n",
              "    <tr>\n",
              "      <th>SumTotal</th>\n",
              "      <td>1.114803e+11</td>\n",
              "      <td>1.282023e+10</td>\n",
              "    </tr>\n",
              "  </tbody>\n",
              "</table>\n",
              "</div>"
            ],
            "text/plain": [
              "                   RWA  CapitalAdequacy\n",
              "Loan      1.600855e+08     1.840983e+07\n",
              "Mortgage  6.484765e+09     7.457480e+08\n",
              "Bond      1.048354e+11     1.205607e+10\n",
              "SumTotal  1.114803e+11     1.282023e+10"
            ]
          },
          "metadata": {
            "tags": []
          },
          "execution_count": 28
        }
      ]
    },
    {
      "cell_type": "code",
      "metadata": {
        "id": "YGZagjaFWTjx",
        "colab_type": "code",
        "outputId": "0cb69a9d-6b3e-400f-ff01-37dd4674fe44",
        "colab": {
          "base_uri": "https://localhost:8080/",
          "height": 136
        }
      },
      "source": [
        "rwa['EL'] = [np.sum(rloan_data['EL']), np.sum(mortgage_data['EL']), np.sum(bond_data['EL'])]\n",
        "rwa['EAD'] = [np.sum(rloan_data['EAD']), np.sum(mortgage_data['EAD']), np.sum(bond_data['EAD'])]\n",
        "rwa"
      ],
      "execution_count": 0,
      "outputs": [
        {
          "output_type": "execute_result",
          "data": {
            "text/html": [
              "<div>\n",
              "<style scoped>\n",
              "    .dataframe tbody tr th:only-of-type {\n",
              "        vertical-align: middle;\n",
              "    }\n",
              "\n",
              "    .dataframe tbody tr th {\n",
              "        vertical-align: top;\n",
              "    }\n",
              "\n",
              "    .dataframe thead th {\n",
              "        text-align: right;\n",
              "    }\n",
              "</style>\n",
              "<table border=\"1\" class=\"dataframe\">\n",
              "  <thead>\n",
              "    <tr style=\"text-align: right;\">\n",
              "      <th></th>\n",
              "      <th>RWA</th>\n",
              "      <th>CapitalAdequacy</th>\n",
              "      <th>EL</th>\n",
              "      <th>EAD</th>\n",
              "    </tr>\n",
              "  </thead>\n",
              "  <tbody>\n",
              "    <tr>\n",
              "      <th>Loan</th>\n",
              "      <td>1.600855e+08</td>\n",
              "      <td>1.840983e+07</td>\n",
              "      <td>2.560259e+07</td>\n",
              "      <td>1.021666e+08</td>\n",
              "    </tr>\n",
              "    <tr>\n",
              "      <th>Mortgage</th>\n",
              "      <td>6.484765e+09</td>\n",
              "      <td>7.457480e+08</td>\n",
              "      <td>5.053065e+08</td>\n",
              "      <td>4.057962e+09</td>\n",
              "    </tr>\n",
              "    <tr>\n",
              "      <th>Bond</th>\n",
              "      <td>1.048354e+11</td>\n",
              "      <td>1.205607e+10</td>\n",
              "      <td>5.914197e+09</td>\n",
              "      <td>5.259923e+10</td>\n",
              "    </tr>\n",
              "  </tbody>\n",
              "</table>\n",
              "</div>"
            ],
            "text/plain": [
              "                   RWA  CapitalAdequacy            EL           EAD\n",
              "Loan      1.600855e+08     1.840983e+07  2.560259e+07  1.021666e+08\n",
              "Mortgage  6.484765e+09     7.457480e+08  5.053065e+08  4.057962e+09\n",
              "Bond      1.048354e+11     1.205607e+10  5.914197e+09  5.259923e+10"
            ]
          },
          "metadata": {
            "tags": []
          },
          "execution_count": 29
        }
      ]
    },
    {
      "cell_type": "markdown",
      "metadata": {
        "id": "gEy_J0uNPzze",
        "colab_type": "text"
      },
      "source": [
        "### Unexpected Loss\n",
        "\n",
        "The losses above the expected levels are known as unexpected loss. The unexpected loss is the result of the EAD multiplied by the capital needed.\n",
        "\n",
        "The total unexpected loss of the portfolio is $8,918.42 million dollars."
      ]
    },
    {
      "cell_type": "code",
      "metadata": {
        "id": "jd0xB1JZX7ke",
        "colab_type": "code",
        "outputId": "2b97bc21-7891-4b14-d8a2-ffa999a2c0a0",
        "colab": {
          "base_uri": "https://localhost:8080/",
          "height": 136
        }
      },
      "source": [
        "ul_rloan = np.dot(rloan_data['CapitalReq'], rloan_data['EAD'])\n",
        "ul_mortgage = np.dot(mortgage_data['CapitalReq'], mortgage_data['EAD'])\n",
        "ul_bond = np.dot(bond_data['CapitalReq'], bond_data['EAD'])\n",
        "rwa['UL'] = [ul_rloan, ul_mortgage, ul_bond]\n",
        "rwa"
      ],
      "execution_count": 0,
      "outputs": [
        {
          "output_type": "execute_result",
          "data": {
            "text/html": [
              "<div>\n",
              "<style scoped>\n",
              "    .dataframe tbody tr th:only-of-type {\n",
              "        vertical-align: middle;\n",
              "    }\n",
              "\n",
              "    .dataframe tbody tr th {\n",
              "        vertical-align: top;\n",
              "    }\n",
              "\n",
              "    .dataframe thead th {\n",
              "        text-align: right;\n",
              "    }\n",
              "</style>\n",
              "<table border=\"1\" class=\"dataframe\">\n",
              "  <thead>\n",
              "    <tr style=\"text-align: right;\">\n",
              "      <th></th>\n",
              "      <th>RWA</th>\n",
              "      <th>CapitalAdequacy</th>\n",
              "      <th>EL</th>\n",
              "      <th>EAD</th>\n",
              "      <th>UL</th>\n",
              "    </tr>\n",
              "  </thead>\n",
              "  <tbody>\n",
              "    <tr>\n",
              "      <th>Loan</th>\n",
              "      <td>1.600855e+08</td>\n",
              "      <td>1.840983e+07</td>\n",
              "      <td>2.560259e+07</td>\n",
              "      <td>1.021666e+08</td>\n",
              "      <td>1.280684e+07</td>\n",
              "    </tr>\n",
              "    <tr>\n",
              "      <th>Mortgage</th>\n",
              "      <td>6.484765e+09</td>\n",
              "      <td>7.457480e+08</td>\n",
              "      <td>5.053065e+08</td>\n",
              "      <td>4.057962e+09</td>\n",
              "      <td>5.187812e+08</td>\n",
              "    </tr>\n",
              "    <tr>\n",
              "      <th>Bond</th>\n",
              "      <td>1.048354e+11</td>\n",
              "      <td>1.205607e+10</td>\n",
              "      <td>5.914197e+09</td>\n",
              "      <td>5.259923e+10</td>\n",
              "      <td>8.386834e+09</td>\n",
              "    </tr>\n",
              "  </tbody>\n",
              "</table>\n",
              "</div>"
            ],
            "text/plain": [
              "                   RWA  CapitalAdequacy  ...           EAD            UL\n",
              "Loan      1.600855e+08     1.840983e+07  ...  1.021666e+08  1.280684e+07\n",
              "Mortgage  6.484765e+09     7.457480e+08  ...  4.057962e+09  5.187812e+08\n",
              "Bond      1.048354e+11     1.205607e+10  ...  5.259923e+10  8.386834e+09\n",
              "\n",
              "[3 rows x 5 columns]"
            ]
          },
          "metadata": {
            "tags": []
          },
          "execution_count": 30
        }
      ]
    },
    {
      "cell_type": "code",
      "metadata": {
        "id": "YT6cQ5I4Yti_",
        "colab_type": "code",
        "outputId": "7baa3f6a-e95e-4dbb-c80a-2ad18d7e7906",
        "colab": {
          "base_uri": "https://localhost:8080/",
          "height": 166
        }
      },
      "source": [
        "y = pd.DataFrame([np.sum(rwa['RWA']), np.sum(rwa['CapitalAdequacy']), np.sum(rwa['EL']), np.sum(rwa['EAD']), np.sum(rwa['UL'])],\n",
        "                 columns=['SumTotal'],index=['RWA','CapitalAdequacy','EL','EAD','UL'])\n",
        "y = y.transpose()\n",
        "rwa.append(y)"
      ],
      "execution_count": 0,
      "outputs": [
        {
          "output_type": "execute_result",
          "data": {
            "text/html": [
              "<div>\n",
              "<style scoped>\n",
              "    .dataframe tbody tr th:only-of-type {\n",
              "        vertical-align: middle;\n",
              "    }\n",
              "\n",
              "    .dataframe tbody tr th {\n",
              "        vertical-align: top;\n",
              "    }\n",
              "\n",
              "    .dataframe thead th {\n",
              "        text-align: right;\n",
              "    }\n",
              "</style>\n",
              "<table border=\"1\" class=\"dataframe\">\n",
              "  <thead>\n",
              "    <tr style=\"text-align: right;\">\n",
              "      <th></th>\n",
              "      <th>RWA</th>\n",
              "      <th>CapitalAdequacy</th>\n",
              "      <th>EL</th>\n",
              "      <th>EAD</th>\n",
              "      <th>UL</th>\n",
              "    </tr>\n",
              "  </thead>\n",
              "  <tbody>\n",
              "    <tr>\n",
              "      <th>Loan</th>\n",
              "      <td>1.600855e+08</td>\n",
              "      <td>1.840983e+07</td>\n",
              "      <td>2.560259e+07</td>\n",
              "      <td>1.021666e+08</td>\n",
              "      <td>1.280684e+07</td>\n",
              "    </tr>\n",
              "    <tr>\n",
              "      <th>Mortgage</th>\n",
              "      <td>6.484765e+09</td>\n",
              "      <td>7.457480e+08</td>\n",
              "      <td>5.053065e+08</td>\n",
              "      <td>4.057962e+09</td>\n",
              "      <td>5.187812e+08</td>\n",
              "    </tr>\n",
              "    <tr>\n",
              "      <th>Bond</th>\n",
              "      <td>1.048354e+11</td>\n",
              "      <td>1.205607e+10</td>\n",
              "      <td>5.914197e+09</td>\n",
              "      <td>5.259923e+10</td>\n",
              "      <td>8.386834e+09</td>\n",
              "    </tr>\n",
              "    <tr>\n",
              "      <th>SumTotal</th>\n",
              "      <td>1.114803e+11</td>\n",
              "      <td>1.282023e+10</td>\n",
              "      <td>6.445106e+09</td>\n",
              "      <td>5.675936e+10</td>\n",
              "      <td>8.918422e+09</td>\n",
              "    </tr>\n",
              "  </tbody>\n",
              "</table>\n",
              "</div>"
            ],
            "text/plain": [
              "                   RWA  CapitalAdequacy  ...           EAD            UL\n",
              "Loan      1.600855e+08     1.840983e+07  ...  1.021666e+08  1.280684e+07\n",
              "Mortgage  6.484765e+09     7.457480e+08  ...  4.057962e+09  5.187812e+08\n",
              "Bond      1.048354e+11     1.205607e+10  ...  5.259923e+10  8.386834e+09\n",
              "SumTotal  1.114803e+11     1.282023e+10  ...  5.675936e+10  8.918422e+09\n",
              "\n",
              "[4 rows x 5 columns]"
            ]
          },
          "metadata": {
            "tags": []
          },
          "execution_count": 31
        }
      ]
    },
    {
      "cell_type": "markdown",
      "metadata": {
        "id": "LNZQClqcQWgv",
        "colab_type": "text"
      },
      "source": [
        "# Capital Requirement using the Standard Approach\n",
        "\n",
        "The method uses the multiplication of the EAD by the weights as specified in OSFI. For the loans the risk weight used was 75%, for the mortgages the risk weight was 35% and for the bonds the risk weight depended on their PD and rating giving in the coursework. Because the bank must satisfy 11.5% of its RWAs the capital requirement is $4,918.81 million CAD."
      ]
    },
    {
      "cell_type": "code",
      "metadata": {
        "id": "u-SgXOQi2mye",
        "colab_type": "code",
        "outputId": "8077ff33-8fb6-43fc-8147-0f2a04bde3f3",
        "colab": {
          "base_uri": "https://localhost:8080/",
          "height": 34
        }
      },
      "source": [
        "# Calculating the Capital Requirement using the Standard metod\n",
        "# For the retail exposure a RWA of 75%\n",
        "\n",
        "stdCA_rl = np.sum(rloan_data['EAD']*.75)\n",
        "stdCA_rl\n"
      ],
      "execution_count": 0,
      "outputs": [
        {
          "output_type": "execute_result",
          "data": {
            "text/plain": [
              "76624925.82612172"
            ]
          },
          "metadata": {
            "tags": []
          },
          "execution_count": 32
        }
      ]
    },
    {
      "cell_type": "code",
      "metadata": {
        "id": "UsJPAbdi3EU0",
        "colab_type": "code",
        "outputId": "aa274d52-7f63-4a5e-892c-df3467c427fa",
        "colab": {
          "base_uri": "https://localhost:8080/",
          "height": 34
        }
      },
      "source": [
        "# For the mortgages exposure a RWA of 35%\n",
        "stdCA_m = np.sum(mortgage_data['EAD']*.35)\n",
        "stdCA_m"
      ],
      "execution_count": 0,
      "outputs": [
        {
          "output_type": "execute_result",
          "data": {
            "text/plain": [
              "1420286758.8332229"
            ]
          },
          "metadata": {
            "tags": []
          },
          "execution_count": 33
        }
      ]
    },
    {
      "cell_type": "code",
      "metadata": {
        "id": "Vi58D2jp5dCK",
        "colab_type": "code",
        "colab": {}
      },
      "source": [
        "# For the bonds exposure a RWA depends on the Raiting\n",
        "# function that assigns the risk weight\n",
        "def risk_weight(pd):\n",
        "  \n",
        "  if pd <= .01:\n",
        "    return 0.2\n",
        "  elif (pd>.01) & (pd<=0.12):\n",
        "    return 0.5\n",
        "  elif (pd > .12) & (pd <=0.52):\n",
        "    return 1\n",
        "  elif (pd >.52):\n",
        "    return 1.5"
      ],
      "execution_count": 0,
      "outputs": []
    },
    {
      "cell_type": "code",
      "metadata": {
        "id": "b-G6dcdQ7yZn",
        "colab_type": "code",
        "colab": {}
      },
      "source": [
        "bond_data['SRW'] = bond_data.apply(lambda x: risk_weight(x['PD']), axis=1)\n",
        "stdCA_b = np.dot(bond_data['SRW'], bond_data['EAD'])"
      ],
      "execution_count": 0,
      "outputs": []
    },
    {
      "cell_type": "code",
      "metadata": {
        "id": "roKIIH43WC_-",
        "colab_type": "code",
        "colab": {}
      },
      "source": [
        "# Capital Adequacy\n",
        "(stdCA_b + stdCA_rl + stdCA_m)*.115"
      ],
      "execution_count": 0,
      "outputs": []
    },
    {
      "cell_type": "code",
      "metadata": {
        "id": "U0LajsuQ7_qe",
        "colab_type": "code",
        "outputId": "9d7404dc-e227-4752-9201-3ab153dba420",
        "colab": {
          "base_uri": "https://localhost:8080/",
          "height": 34
        }
      },
      "source": [
        "# Capital Adequacy\n",
        "((stdCA_b + stdCA_rl + stdCA_m)*.115)/1000000"
      ],
      "execution_count": 0,
      "outputs": [
        {
          "output_type": "execute_result",
          "data": {
            "text/plain": [
              "4918.812462978633"
            ]
          },
          "metadata": {
            "tags": []
          },
          "execution_count": 38
        }
      ]
    }
  ]
}